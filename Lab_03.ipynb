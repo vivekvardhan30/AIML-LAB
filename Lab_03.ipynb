{
  "nbformat": 4,
  "nbformat_minor": 0,
  "metadata": {
    "colab": {
      "provenance": [],
      "authorship_tag": "ABX9TyMMgiClJkUUNvSscKgKv/CA",
      "include_colab_link": true
    },
    "kernelspec": {
      "name": "python3",
      "display_name": "Python 3"
    },
    "language_info": {
      "name": "python"
    }
  },
  "cells": [
    {
      "cell_type": "markdown",
      "metadata": {
        "id": "view-in-github",
        "colab_type": "text"
      },
      "source": [
        "<a href=\"https://colab.research.google.com/github/vivekvardhan30/AIML-LAB/blob/main/Lab_03.ipynb\" target=\"_parent\"><img src=\"https://colab.research.google.com/assets/colab-badge.svg\" alt=\"Open In Colab\"/></a>"
      ]
    },
    {
      "cell_type": "code",
      "source": [
        "from collections import namedtuple,Counter,defaultdict\n",
        "import random\n",
        "import math\n",
        "import functools\n",
        "cache=functools.lru_cache(10**6)"
      ],
      "metadata": {
        "id": "WxUous1b2NuK"
      },
      "execution_count": null,
      "outputs": []
    },
    {
      "cell_type": "code",
      "source": [
        "class Game:\n",
        "      def actions(self, state ):\n",
        "              raise NotImplementedError\n",
        "      def result(self, state , move ):\n",
        "              raise NotImplementedError\n",
        "      def is_terminal (self, state ):\n",
        "              return not self.actions(state)\n",
        "      def utility(self, state , player ):\n",
        "              raise NotImplementedError\n",
        "      def play_game(game,strategies : dict , verbose=False ):\n",
        "          state = game.initial\n",
        "          while not game.is_terminal (state ):\n",
        "                player = state.to_move\n",
        "                move = strategies[player ](game,state)\n",
        "                state = game.result(state,move)\n",
        "                if verbose:\n",
        "                    print('Player', player,'move:',move)\n",
        "                    print(state)\n",
        "                    return state"
      ],
      "metadata": {
        "id": "TCVBXxfc4jG2"
      },
      "execution_count": null,
      "outputs": []
    },
    {
      "cell_type": "code",
      "source": [
        "def minimax_search (game , state ):\n",
        "  player = state.to_move\n",
        "def max_value (state ):\n",
        "  if game.is_terminal (state):\n",
        "    return game.utility(state,player), None\n",
        "  v,move =-infinity,None\n",
        "  for a in game.actions(state):\n",
        "    v2 , = min_value(game.result(state,a))\n",
        "  if v2 > v:\n",
        "    v,move =v2,a\n",
        "  return v, move\n",
        "\n",
        "def min_value(state):\n",
        "  if game.is_terminal (state ):\n",
        "    return game.utility(state , player), None\n",
        "  v, move = +infinity , None\n",
        "  for a in game.actions(state ):\n",
        "    v2 , = max_value(game.result(state , a))\n",
        "  if v2 < v:\n",
        "    v, move = v2 , a\n",
        "    return v, move\n",
        "  return max_value(state)\n",
        "  infinity = math.inf"
      ],
      "metadata": {
        "id": "pf8_ubDp6GGb"
      },
      "execution_count": null,
      "outputs": []
    },
    {
      "cell_type": "code",
      "source": [
        "def alphabeta_search (game , state ):\n",
        "  player = state.to_move\n",
        "\n",
        "def max_value(state,alpha,beta):\n",
        "  if game.is_terminal(state):\n",
        "    return game.utility(state , player), None\n",
        "  v, move = -infinity , None\n",
        "  for a in game.actions(state ):\n",
        "    v2 , = min_value(game.result(state , a), alpha , beta)\n",
        "  if v2 > v:\n",
        "    v, move = v2 , a\n",
        "    alpha = max(alpha , v)\n",
        "  if v >= beta:\n",
        "    return v, move\n",
        "  return v, move\n",
        "\n",
        "def min_value(state , alpha , beta ):\n",
        "  if game.is_terminal(state ):\n",
        "    return game.utility(state , player), None\n",
        "  v, move = +infinity , None\n",
        "  for a in game.actions(state ):\n",
        "    v2,=max_value(game.result(state , a), alpha , beta)\n",
        "  if v2 < v:\n",
        "    v, move = v2 , a\n",
        "    beta = min(beta , v)\n",
        "  if v <= alpha:\n",
        "    return v, move\n",
        "  return v, move\n",
        "  return max_value(state , -infinity , +infinity )"
      ],
      "metadata": {
        "id": "Rvg-hqgn6TDi"
      },
      "execution_count": null,
      "outputs": []
    },
    {
      "cell_type": "code",
      "source": [
        "class TicTacToe (Game ):\n",
        "  def  init(self, height =3, width =3, k=3):\n",
        "    self.k = k # k in a row\n",
        "    self.squares = {(x, y) for x in range(width) for y in range(height)}\n",
        "    self.initial = Board(height=height , width=width , to_move ='X', utility =0)\n",
        "  def actions(self, board ):\n",
        "    return self.squares - set(board)\n",
        "  def result(self, board , square ):\n",
        "    player = board. to_move\n",
        "    board = board.new({square: player}, to_move =('O' if player == 'X' else 'X'))\n",
        "    win = k in row (board , player , square , self.k)\n",
        "    board.utility = (0 if not win else +1 if player == 'X' else -1)\n",
        "    return board\n",
        "  def utility(self, board , player ):\n",
        "    return board.utility if player == 'X' else -board.utility\n",
        "  def is_terminal (self, board ):\n",
        "    return board.utility != 0 or len(self.squares) == len(board)\n",
        "  def display(self, board ):\n",
        "    print(board)\n",
        "  def k_in_row (board , player , square , k):\n",
        "    def in_row (x, y, dx , dy):\n",
        "        return 0 if board[x, y] != player else 1 + in_row (x + dx , y + dy , dx , dy)\n",
        "        return any(in_row(*square , dx , dy) + in_row(*square , -dx , -dy)-1>=k\n",
        "                  for (dx , dy) in ((0, 1), (1, 0), (1, 1), (1, -1)))\n"
      ],
      "metadata": {
        "id": "fr9PUXXG6cnk"
      },
      "execution_count": null,
      "outputs": []
    },
    {
      "cell_type": "code",
      "source": [
        "class Board( defaultdict ):\n",
        "  def init (self, width =8, height =8, to_move =None , **kwds ):\n",
        "    self. dict .update(width=width , height=height , to_move = to_move , **kwds)\n",
        "  def new(self, changes: dict , **kwds) -> 'Board':\n",
        "    board = Board(width=self.width , height=self.height , **kwds)\n",
        "    board.update(self)\n",
        "    board.update(changes)\n",
        "    return board\n",
        "  def missing (self, loc ):\n",
        "    x, y = loc\n",
        "    if 0 <= x < self.width and 0 <= y < self.height:\n",
        "      return self.empty\n",
        "    else:\n",
        "      return self.off\n",
        "  def hash (self):\n",
        "    return hash(tuple(sorted(self.items ()))) + hash(self. to_move )\n",
        "  def repr (self):\n",
        "    def row(y):\n",
        "       return ' '.join(self[x, y] for x in range(self.width ))\n",
        "    return '\\n'.join(map(row , range(self.height ))) + '\\n'\n"
      ],
      "metadata": {
        "id": "7TSrrCJi9Dp0"
      },
      "execution_count": null,
      "outputs": []
    },
    {
      "cell_type": "code",
      "source": [
        "def random_player (game , state ):\n",
        "  return random.choice(list(game.actions(state )))\n",
        "def player( search_algorithm ):\n",
        "  return lambda game , state: search_algorithm (game , state )[1]"
      ],
      "metadata": {
        "id": "Ragc5-wT-dHP"
      },
      "execution_count": null,
      "outputs": []
    },
    {
      "cell_type": "code",
      "source": [
        "random_player(TicTacToe(), {'X': random_player, 'O': player(alphabeta_search)}, verbose=True).utility\n",
        "player(TicTacToe(), {'X': player(alphabeta_search), 'O': player(minimax_search)}, verbose=True).utility"
      ],
      "metadata": {
        "id": "cdBfE7sr-91E"
      },
      "execution_count": null,
      "outputs": []
    }
  ]
}