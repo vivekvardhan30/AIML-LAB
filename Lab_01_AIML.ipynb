{
  "nbformat": 4,
  "nbformat_minor": 0,
  "metadata": {
    "colab": {
      "provenance": [],
      "authorship_tag": "ABX9TyOEWVG+JKMwlyAk5gbKnr5q",
      "include_colab_link": true
    },
    "kernelspec": {
      "name": "python3",
      "display_name": "Python 3"
    },
    "language_info": {
      "name": "python"
    }
  },
  "cells": [
    {
      "cell_type": "markdown",
      "metadata": {
        "id": "view-in-github",
        "colab_type": "text"
      },
      "source": [
        "<a href=\"https://colab.research.google.com/github/vivekvardhan30/AIML-LAB/blob/main/Lab_01_AIML.ipynb\" target=\"_parent\"><img src=\"https://colab.research.google.com/assets/colab-badge.svg\" alt=\"Open In Colab\"/></a>"
      ]
    },
    {
      "cell_type": "markdown",
      "source": [
        "## Lab-01: Activity-1: implement basic Data Structures using Numpy,Pandas"
      ],
      "metadata": {
        "id": "_4jbghJDfmvR"
      }
    },
    {
      "cell_type": "markdown",
      "source": [
        "Data Visualization"
      ],
      "metadata": {
        "id": "gPl6KWXl4Ize"
      }
    },
    {
      "cell_type": "code",
      "source": [
        "import matplotlib.pyplot as plt\n",
        "people=['Ann','Brandon','Chen','David','Eimly']\n",
        "age=[21,12,32,45,37]\n",
        "weight=[55,35,77,68,70]\n",
        "height=[160,135,170,165,173]\n",
        "plt.scatter(people,height)\n",
        "plt.show()"
      ],
      "metadata": {
        "id": "auzn33pc4Nvg"
      },
      "execution_count": null,
      "outputs": []
    },
    {
      "cell_type": "markdown",
      "source": [
        "Histogram"
      ],
      "metadata": {
        "id": "kB4Jv3MN4d1K"
      }
    },
    {
      "cell_type": "code",
      "source": [
        "import numpy as np\n",
        "plt.figure(figsize=(7,5))\n",
        "plt.hist(weight,color='aqua',edgecolor='k',alpha=0.75,bins=5)\n",
        "plt.title(\"Histogram of patient weight\",fontsize=15)\n",
        "plt.xlabel(\"People\",fontsize=15)\n",
        "plt.xticks(fontsize=14)\n",
        "plt.yticks(fontsize=14)\n",
        "plt.show()"
      ],
      "metadata": {
        "id": "PvLI0aRJ4gyz"
      },
      "execution_count": null,
      "outputs": []
    },
    {
      "cell_type": "markdown",
      "source": [
        "how to read data from different text book"
      ],
      "metadata": {
        "id": "QsETCp1z4iUs"
      }
    },
    {
      "cell_type": "code",
      "source": [
        "import numpy as np\n",
        "import pandas as pd\n",
        "import nbconvert\n",
        "df1_notepad=pd.read_notepad(\"book.txt\")\n",
        "df1"
      ],
      "metadata": {
        "id": "2Kg7u7_O4luF"
      },
      "execution_count": null,
      "outputs": []
    },
    {
      "cell_type": "code",
      "source": [
        "import numpy as np\n",
        "import pandas as pd\n",
        "import nbconvert\n",
        "df1_excel=pd.read_excel(\"Book1.xlsx\")\n",
        "df1"
      ],
      "metadata": {
        "id": "klXfz4eD4pgA"
      },
      "execution_count": null,
      "outputs": []
    },
    {
      "cell_type": "code",
      "source": [
        "import numpy as np\n",
        "import pandas as pd\n",
        "import nbconvert\n",
        "df1=pd.read_table(\"Book_2.csv\")\n",
        "df1"
      ],
      "metadata": {
        "id": "q3VzYfCF4rra"
      },
      "execution_count": null,
      "outputs": []
    },
    {
      "cell_type": "markdown",
      "source": [
        "Bar Chart"
      ],
      "metadata": {
        "id": "e5roTAOn4TNU"
      }
    },
    {
      "cell_type": "code",
      "source": [
        "plt.figure(figsize=(12,4))\n",
        "plt.title(\"People's weight in kgs\",fontsize=16,fontstyle='italic')\n",
        "#plt.bar takes four parameters\n",
        "plt.bar(x=people,height=weight,width=0.4,color='green',edgecolor='k',alpha=0.6)\n",
        "plt.xlabel(\"People\",fontsize=15)\n",
        "plt.xticks(fontsize=14,rotation=30)\n",
        "plt.yticks(fontsize=14)\n",
        "plt.ylabel(\"Weights (in kgs)\",fontsize=18)\n",
        "plt.show()"
      ],
      "metadata": {
        "id": "IOoRoY2t4UA5"
      },
      "execution_count": null,
      "outputs": []
    },
    {
      "cell_type": "code",
      "source": [
        "import numpy as np\n",
        "list1=[1,2,3]\n",
        "array1=np.array(list1)\n",
        "type(array1)"
      ],
      "metadata": {
        "colab": {
          "base_uri": "https://localhost:8080/"
        },
        "id": "jQox8CrcgM-h",
        "outputId": "d48759e8-2edd-4f02-9477-ec9eb9731f3c"
      },
      "execution_count": null,
      "outputs": [
        {
          "output_type": "execute_result",
          "data": {
            "text/plain": [
              "numpy.ndarray"
            ]
          },
          "metadata": {},
          "execution_count": 4
        }
      ]
    },
    {
      "cell_type": "markdown",
      "source": [
        "** Mathematical Operation using Numpy"
      ],
      "metadata": {
        "id": "Nt6Btcyrh-M0"
      }
    },
    {
      "cell_type": "code",
      "source": [
        "list2=[3,2,1]\n",
        "array2=np.array(list2)\n",
        "s=list2+array2\n",
        "print(\"Addition of two\",s)\n",
        "print(s[0]*s[1])"
      ],
      "metadata": {
        "colab": {
          "base_uri": "https://localhost:8080/"
        },
        "id": "-sG3VujXiJY5",
        "outputId": "180c1feb-7851-4446-c509-2ff6b2a77536"
      },
      "execution_count": null,
      "outputs": [
        {
          "output_type": "stream",
          "name": "stdout",
          "text": [
            "Addition of two [6 4 2]\n",
            "24\n"
          ]
        }
      ]
    },
    {
      "cell_type": "markdown",
      "source": [
        "** mathematical operation using Numpy-2"
      ],
      "metadata": {
        "id": "c-YAiN_ak0tB"
      }
    },
    {
      "cell_type": "code",
      "source": [
        "list2=[3,2,1]\n",
        "array2=np.array(list2)\n",
        "print(f'Power of Two:,{array1**array2}')"
      ],
      "metadata": {
        "colab": {
          "base_uri": "https://localhost:8080/"
        },
        "id": "-vEmgypGk6OC",
        "outputId": "147ece81-f40f-4fe3-cce7-df26446465cd"
      },
      "execution_count": null,
      "outputs": [
        {
          "output_type": "stream",
          "name": "stdout",
          "text": [
            "Power of Two:,[1 4 3]\n"
          ]
        }
      ]
    },
    {
      "cell_type": "markdown",
      "source": [
        "** Mathematical Functions in Numpy"
      ],
      "metadata": {
        "id": "HdfMdXTllWPB"
      }
    },
    {
      "cell_type": "code",
      "source": [
        "print(f'sin value of array1,{np.sin(array1)}')\n",
        "print(f'Log2 value of array1,{np.log2(array1)}')\n",
        "print(f'exponential value of array1,{np.exp(array1)}')"
      ],
      "metadata": {
        "colab": {
          "base_uri": "https://localhost:8080/"
        },
        "id": "Kz5JWb0zlcZZ",
        "outputId": "b990b48f-d631-47e0-c12d-f30b38fcaf9b"
      },
      "execution_count": null,
      "outputs": [
        {
          "output_type": "stream",
          "name": "stdout",
          "text": [
            "sin value of array1,[0.84147098 0.90929743 0.14112001]\n",
            "Log2 value of array1,[0.        1.        1.5849625]\n",
            "exponential value of array1,[ 2.71828183  7.3890561  20.08553692]\n"
          ]
        }
      ]
    }
  ]
}