{
  "nbformat": 4,
  "nbformat_minor": 0,
  "metadata": {
    "colab": {
      "provenance": [],
      "authorship_tag": "ABX9TyNZsxpFimCtRQSUUf7AEpbM",
      "include_colab_link": true
    },
    "kernelspec": {
      "name": "python3",
      "display_name": "Python 3"
    },
    "language_info": {
      "name": "python"
    }
  },
  "cells": [
    {
      "cell_type": "markdown",
      "metadata": {
        "id": "view-in-github",
        "colab_type": "text"
      },
      "source": [
        "<a href=\"https://colab.research.google.com/github/vivekvardhan30/AIML-LAB/blob/main/Lab_02.ipynb\" target=\"_parent\"><img src=\"https://colab.research.google.com/assets/colab-badge.svg\" alt=\"Open In Colab\"/></a>"
      ]
    },
    {
      "cell_type": "markdown",
      "source": [
        "Part-01:Implement Breadth First Search Algorithm\n"
      ],
      "metadata": {
        "id": "PWa68YdGogRO"
      }
    },
    {
      "cell_type": "code",
      "source": [
        "import numpy as np"
      ],
      "metadata": {
        "id": "SIJmh2ZAoqmp"
      },
      "execution_count": null,
      "outputs": []
    },
    {
      "cell_type": "code",
      "source": [
        "from queue import Queue\n",
        "graph={\n",
        " 0:[1,3],1:[0,2,3],2:[4,1,5],3:[4,0,1],4:[2,3,5],5:[4,2],6:[]\n",
        "}\n",
        "print(\"The adjacency List representing the graph is:\")\n",
        "print(graph)"
      ],
      "metadata": {
        "id": "90vCFKd7owkJ",
        "colab": {
          "base_uri": "https://localhost:8080/"
        },
        "outputId": "0575d06b-1491-4aff-e1e4-07a8c8fc87b7"
      },
      "execution_count": null,
      "outputs": [
        {
          "output_type": "stream",
          "name": "stdout",
          "text": [
            "The adjacency List representing the graph is:\n",
            "{0: [1, 3], 1: [0, 2, 3], 2: [4, 1, 5], 3: [4, 0, 1], 4: [2, 3, 5], 5: [4, 2], 6: []}\n"
          ]
        }
      ]
    },
    {
      "cell_type": "code",
      "source": [
        "def bfs(graph,source):\n",
        "  Q=Queue()\n",
        "  visited_vertices=set()\n",
        "  Q.put(source)\n",
        "  visited_vertices.update({1})\n",
        "  while not Q.empty():\n",
        "    vertex=Q.get()\n",
        "    print(vertex,end=\"-->\")\n",
        "    for u in graph[vertex]:\n",
        "      if u not in  visited_vertices:\n",
        "        Q.put(u)\n",
        "        visited_vertices.update({u})\n",
        "print(\"bfs traversal of graph with source 1\")\n",
        "bfs(graph,1)"
      ],
      "metadata": {
        "id": "xH9M8xP4pnTU",
        "outputId": "3d0810e0-e948-45e7-a316-acffdffd2f12",
        "colab": {
          "base_uri": "https://localhost:8080/"
        }
      },
      "execution_count": null,
      "outputs": [
        {
          "output_type": "stream",
          "name": "stdout",
          "text": [
            "bfs traversal of graph with source 1\n",
            "1-->0-->2-->3-->4-->5-->"
          ]
        }
      ]
    },
    {
      "cell_type": "markdown",
      "source": [
        "Part-02:Implement Depth First Search Algorithm"
      ],
      "metadata": {
        "id": "vkF6S1zUyYiE"
      }
    },
    {
      "cell_type": "code",
      "source": [
        "#from stack import Stack\n",
        "graphs={'a':['b','s'],'b':['a'],'c':['s','e','f','d'],'d':['c','e'],'e':['h','c'],'f':['c','g'],'g':['s','f','h'],'h':['e','g'],'s':['a','c','g']}\n",
        "print(f'the adjacency list is representing the graph {graphs}')#from stack import Stack\n",
        "graphs={'a':['b','s'],'b':['a'],'c':['s','e','f','d'],'d':['c','e'],'e':['h','c'],'f':['c','g'],'g':['s','f','h'],'h':['e','g'],'s':['a','c','g']}\n",
        "print(f'the adjacency list is representing the graph {graphs}')"
      ],
      "metadata": {
        "id": "87OyZKuEydU3",
        "colab": {
          "base_uri": "https://localhost:8080/"
        },
        "outputId": "7ae333e3-5d56-497f-d354-ab0415485283"
      },
      "execution_count": null,
      "outputs": [
        {
          "output_type": "stream",
          "name": "stdout",
          "text": [
            "the adjacency list is representing the graph {'a': ['b', 's'], 'b': ['a'], 'c': ['s', 'e', 'f', 'd'], 'd': ['c', 'e'], 'e': ['h', 'c'], 'f': ['c', 'g'], 'g': ['s', 'f', 'h'], 'h': ['e', 'g'], 's': ['a', 'c', 'g']}\n",
            "the adjacency list is representing the graph {'a': ['b', 's'], 'b': ['a'], 'c': ['s', 'e', 'f', 'd'], 'd': ['c', 'e'], 'e': ['h', 'c'], 'f': ['c', 'g'], 'g': ['s', 'f', 'h'], 'h': ['e', 'g'], 's': ['a', 'c', 'g']}\n"
          ]
        }
      ]
    },
    {
      "cell_type": "code",
      "source": [
        "def dfs(graphs,node,visited):\n",
        "  if node not in visited:\n",
        "    visited.append(node)\n",
        "    for k in graphs[node]:\n",
        "      dfs(graphs,k,visited)\n",
        "  return visited\n",
        "visited=dfs(graphs,'d',[])\n",
        "print(visited)"
      ],
      "metadata": {
        "id": "XRx3TBT0HepM",
        "outputId": "7385798c-f3ca-4d5a-b790-bb259917620f",
        "colab": {
          "base_uri": "https://localhost:8080/"
        }
      },
      "execution_count": null,
      "outputs": [
        {
          "output_type": "stream",
          "name": "stdout",
          "text": [
            "['d', 'c', 's', 'a', 'b', 'g', 'f', 'h', 'e']\n"
          ]
        }
      ]
    }
  ]
}